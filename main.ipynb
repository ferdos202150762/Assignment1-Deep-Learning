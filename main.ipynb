{
 "cells": [
  {
   "cell_type": "code",
   "execution_count": 1,
   "metadata": {},
   "outputs": [],
   "source": [
    "import sys\n",
    "sys.path.append(\".gitignore/ST456-data/\")"
   ]
  },
  {
   "cell_type": "code",
   "execution_count": 2,
   "metadata": {},
   "outputs": [],
   "source": [
    "\n",
    "import numpy as np\n",
    "import matplotlib.pyplot as plt\n",
    "%matplotlib inline\n",
    "from keras.datasets import imdb\n",
    "from keras import models\n",
    "from keras import layers\n",
    "from tensorflow.keras import optimizers\n",
    "import tensorflow as tf\n",
    "from tensorflow import keras"
   ]
  },
  {
   "cell_type": "markdown",
   "metadata": {},
   "source": [
    "## Datasets for this assessment\n",
    "\n",
    "https://www.dropbox.com/sh/sztempv7hymr3ck/AADjIBGNJgKl9Ox7LcpKlgR7a?dl=0\n",
    "\n",
    "## P1 - permutation-invariant functions\n",
    "\n",
    "Consider the problem of learning a permutation-invariant function <img src=\"https://render.githubusercontent.com/render/math?math=f:\\mathbb{R}^m\\rightarrow\\mathbb{R}\"> with $d=1$ by using a neural network according to the <img src=\"https://render.githubusercontent.com/render/math?math=(\\phi,\\rho)\">-sum-decomposition neural network architecture defined in lectures.\n",
    "\n",
    "For function <img src=\"https://render.githubusercontent.com/render/math?math=\\phi\">, use a feedforward neural network with one hidden layer with 100 neurons and ReLU activation function, and the output layer with `lat_dim` output units. `lat_dim` is a hyperparameter which you will need to set to values specified below.\n",
    "\n",
    "For function <img src=\"https://render.githubusercontent.com/render/math?math=\\rho\">, use a feedforward neural network with one hidden layer with 100 neurons and ReLU activation function.\n",
    "\n",
    "For training, use the stochastic gradient descent algorithm with learning rate 1e-4. Use MSE for the loss function. Use a validation dataset by taking 0.1 portion of the training dataset (validation split). Use batch size of value 128.\n",
    "\n",
    "\n",
    "\n",
    "\n",
    "\n",
    " "
   ]
  },
  {
   "cell_type": "markdown",
   "metadata": {},
   "source": [
    "### P1.1\n",
    "\n",
    "Implement the neural network specified above. Explain your implementation.\n",
    "\n"
   ]
  },
  {
   "cell_type": "code",
   "execution_count": 3,
   "metadata": {},
   "outputs": [],
   "source": [
    "import pandas as pd\n",
    "# remember to download the HWdata.csv and adjust the path\n",
    "train_data = pd.read_csv('.gitignore/ST456-data/train-1.csv', header= None)\n",
    "test_data = pd.read_csv('.gitignore/ST456-data/test-1.csv', header= None)\n",
    "\n",
    "y_train = train_data.pop(10)\n",
    "x_train = train_data\n",
    "y_test = test_data.pop(10)\n",
    "x_test = test_data"
   ]
  },
  {
   "cell_type": "code",
   "execution_count": 39,
   "metadata": {
    "scrolled": true
   },
   "outputs": [
    {
     "data": {
      "text/plain": [
       "(100000, 10)"
      ]
     },
     "execution_count": 39,
     "metadata": {},
     "output_type": "execute_result"
    }
   ],
   "source": [
    "x_train.shape"
   ]
  },
  {
   "cell_type": "code",
   "execution_count": 110,
   "metadata": {},
   "outputs": [
    {
     "data": {
      "text/html": [
       "<div>\n",
       "<style scoped>\n",
       "    .dataframe tbody tr th:only-of-type {\n",
       "        vertical-align: middle;\n",
       "    }\n",
       "\n",
       "    .dataframe tbody tr th {\n",
       "        vertical-align: top;\n",
       "    }\n",
       "\n",
       "    .dataframe thead th {\n",
       "        text-align: right;\n",
       "    }\n",
       "</style>\n",
       "<table border=\"1\" class=\"dataframe\">\n",
       "  <thead>\n",
       "    <tr style=\"text-align: right;\">\n",
       "      <th></th>\n",
       "      <th>0</th>\n",
       "      <th>1</th>\n",
       "      <th>2</th>\n",
       "      <th>3</th>\n",
       "      <th>4</th>\n",
       "      <th>5</th>\n",
       "      <th>6</th>\n",
       "      <th>7</th>\n",
       "      <th>8</th>\n",
       "      <th>9</th>\n",
       "    </tr>\n",
       "  </thead>\n",
       "  <tbody>\n",
       "    <tr>\n",
       "      <th>0</th>\n",
       "      <td>0.443132</td>\n",
       "      <td>0.532405</td>\n",
       "      <td>0.437770</td>\n",
       "      <td>0.061966</td>\n",
       "      <td>0.783677</td>\n",
       "      <td>0.935789</td>\n",
       "      <td>0.909104</td>\n",
       "      <td>0.683616</td>\n",
       "      <td>0.895410</td>\n",
       "      <td>0.871122</td>\n",
       "    </tr>\n",
       "    <tr>\n",
       "      <th>1</th>\n",
       "      <td>0.270151</td>\n",
       "      <td>0.563418</td>\n",
       "      <td>0.136042</td>\n",
       "      <td>0.164526</td>\n",
       "      <td>0.013159</td>\n",
       "      <td>0.731077</td>\n",
       "      <td>0.961079</td>\n",
       "      <td>0.202600</td>\n",
       "      <td>0.921334</td>\n",
       "      <td>0.731678</td>\n",
       "    </tr>\n",
       "    <tr>\n",
       "      <th>2</th>\n",
       "      <td>0.571161</td>\n",
       "      <td>0.124119</td>\n",
       "      <td>0.826382</td>\n",
       "      <td>0.692914</td>\n",
       "      <td>0.817431</td>\n",
       "      <td>0.573339</td>\n",
       "      <td>0.248638</td>\n",
       "      <td>0.632073</td>\n",
       "      <td>0.606688</td>\n",
       "      <td>0.348984</td>\n",
       "    </tr>\n",
       "    <tr>\n",
       "      <th>3</th>\n",
       "      <td>0.414595</td>\n",
       "      <td>0.541134</td>\n",
       "      <td>0.383968</td>\n",
       "      <td>0.696607</td>\n",
       "      <td>0.113355</td>\n",
       "      <td>0.591044</td>\n",
       "      <td>0.770690</td>\n",
       "      <td>0.016159</td>\n",
       "      <td>0.291561</td>\n",
       "      <td>0.666265</td>\n",
       "    </tr>\n",
       "    <tr>\n",
       "      <th>4</th>\n",
       "      <td>0.069221</td>\n",
       "      <td>0.047482</td>\n",
       "      <td>0.269938</td>\n",
       "      <td>0.812681</td>\n",
       "      <td>0.533125</td>\n",
       "      <td>0.091919</td>\n",
       "      <td>0.581794</td>\n",
       "      <td>0.854649</td>\n",
       "      <td>0.298028</td>\n",
       "      <td>0.819031</td>\n",
       "    </tr>\n",
       "    <tr>\n",
       "      <th>5</th>\n",
       "      <td>0.685363</td>\n",
       "      <td>0.227652</td>\n",
       "      <td>0.694577</td>\n",
       "      <td>0.806527</td>\n",
       "      <td>0.368828</td>\n",
       "      <td>0.295510</td>\n",
       "      <td>0.633057</td>\n",
       "      <td>0.680897</td>\n",
       "      <td>0.293867</td>\n",
       "      <td>0.463691</td>\n",
       "    </tr>\n",
       "    <tr>\n",
       "      <th>6</th>\n",
       "      <td>0.760441</td>\n",
       "      <td>0.812699</td>\n",
       "      <td>0.829540</td>\n",
       "      <td>0.687209</td>\n",
       "      <td>0.847066</td>\n",
       "      <td>0.671689</td>\n",
       "      <td>0.354833</td>\n",
       "      <td>0.822099</td>\n",
       "      <td>0.463387</td>\n",
       "      <td>0.304425</td>\n",
       "    </tr>\n",
       "    <tr>\n",
       "      <th>7</th>\n",
       "      <td>0.130865</td>\n",
       "      <td>0.135353</td>\n",
       "      <td>0.288127</td>\n",
       "      <td>0.873986</td>\n",
       "      <td>0.468564</td>\n",
       "      <td>0.004831</td>\n",
       "      <td>0.342312</td>\n",
       "      <td>0.034109</td>\n",
       "      <td>0.703829</td>\n",
       "      <td>0.998254</td>\n",
       "    </tr>\n",
       "    <tr>\n",
       "      <th>8</th>\n",
       "      <td>0.631045</td>\n",
       "      <td>0.865065</td>\n",
       "      <td>0.994880</td>\n",
       "      <td>0.597455</td>\n",
       "      <td>0.746800</td>\n",
       "      <td>0.363470</td>\n",
       "      <td>0.410864</td>\n",
       "      <td>0.459091</td>\n",
       "      <td>0.846596</td>\n",
       "      <td>0.939222</td>\n",
       "    </tr>\n",
       "    <tr>\n",
       "      <th>9</th>\n",
       "      <td>0.763400</td>\n",
       "      <td>0.492039</td>\n",
       "      <td>0.561561</td>\n",
       "      <td>0.285750</td>\n",
       "      <td>0.152667</td>\n",
       "      <td>0.359379</td>\n",
       "      <td>0.943843</td>\n",
       "      <td>0.359380</td>\n",
       "      <td>0.505564</td>\n",
       "      <td>0.443119</td>\n",
       "    </tr>\n",
       "  </tbody>\n",
       "</table>\n",
       "</div>"
      ],
      "text/plain": [
       "          0         1         2         3         4         5         6  \\\n",
       "0  0.443132  0.532405  0.437770  0.061966  0.783677  0.935789  0.909104   \n",
       "1  0.270151  0.563418  0.136042  0.164526  0.013159  0.731077  0.961079   \n",
       "2  0.571161  0.124119  0.826382  0.692914  0.817431  0.573339  0.248638   \n",
       "3  0.414595  0.541134  0.383968  0.696607  0.113355  0.591044  0.770690   \n",
       "4  0.069221  0.047482  0.269938  0.812681  0.533125  0.091919  0.581794   \n",
       "5  0.685363  0.227652  0.694577  0.806527  0.368828  0.295510  0.633057   \n",
       "6  0.760441  0.812699  0.829540  0.687209  0.847066  0.671689  0.354833   \n",
       "7  0.130865  0.135353  0.288127  0.873986  0.468564  0.004831  0.342312   \n",
       "8  0.631045  0.865065  0.994880  0.597455  0.746800  0.363470  0.410864   \n",
       "9  0.763400  0.492039  0.561561  0.285750  0.152667  0.359379  0.943843   \n",
       "\n",
       "          7         8         9  \n",
       "0  0.683616  0.895410  0.871122  \n",
       "1  0.202600  0.921334  0.731678  \n",
       "2  0.632073  0.606688  0.348984  \n",
       "3  0.016159  0.291561  0.666265  \n",
       "4  0.854649  0.298028  0.819031  \n",
       "5  0.680897  0.293867  0.463691  \n",
       "6  0.822099  0.463387  0.304425  \n",
       "7  0.034109  0.703829  0.998254  \n",
       "8  0.459091  0.846596  0.939222  \n",
       "9  0.359380  0.505564  0.443119  "
      ]
     },
     "execution_count": 110,
     "metadata": {},
     "output_type": "execute_result"
    }
   ],
   "source": [
    "x_train.head(10)"
   ]
  },
  {
   "cell_type": "code",
   "execution_count": 111,
   "metadata": {},
   "outputs": [
    {
     "data": {
      "text/plain": [
       "0    0.733646\n",
       "1    0.416784\n",
       "2    0.590013\n",
       "3    0.477864\n",
       "4    0.415577\n",
       "5    0.548374\n",
       "6    0.723825\n",
       "7    0.315219\n",
       "8    0.688923\n",
       "9    0.467579\n",
       "Name: 10, dtype: float64"
      ]
     },
     "execution_count": 111,
     "metadata": {},
     "output_type": "execute_result"
    }
   ],
   "source": [
    "y_train.head(10)"
   ]
  },
  {
   "cell_type": "code",
   "execution_count": 92,
   "metadata": {},
   "outputs": [],
   "source": [
    "class Phi(tf.keras.Model):\n",
    "    \n",
    "    def __init__(self, lat_dim):\n",
    "        super().__init__()\n",
    "        self.layer1 = layers.Dense(100,activation='relu',name='phi-hidden')\n",
    "        self.layer2 = layers.Dense(lat_dim,name='phi-output')\n",
    "    \n",
    "    def call(self, inputs):\n",
    "        x1 = self.layer1(inputs)\n",
    "        x2 = self.layer2(x1)\n",
    "        \n",
    "        return tf.math.reduce_sum(\n",
    "    x2,1, keepdims=True)\n",
    "                                   \n",
    "class Rho(tf.keras.Model):\n",
    "    \n",
    "    def __init__(self):\n",
    "        super().__init__()\n",
    "        self.layer1 = layers.Dense(100,activation='relu',name='Rho-hidden-layer',input_shape=(1,))\n",
    "        self.layer2 = layers.Dense(1,name='rho-output')\n",
    "    \n",
    "    def call(self, inputs):\n",
    "        x1 = self.layer1(inputs)\n",
    "        x2 = self.layer2(x1)\n",
    "        \n",
    "        return x2\n",
    "                                   \n",
    "class Function(tf.keras.Model):\n",
    "    \n",
    "    def __init__(self, lat_dim):\n",
    "        super().__init__()\n",
    "        self.layer1 = Phi(lat_dim)\n",
    "        self.layer2 = Rho()\n",
    "    \n",
    "    def call(self, inputs):\n",
    "        x1 = self.layer1(inputs)\n",
    "        x2 = self.layer2(x1)\n",
    "        \n",
    "        return x2\n",
    "    \n",
    "    "
   ]
  },
  {
   "cell_type": "code",
   "execution_count": 93,
   "metadata": {},
   "outputs": [],
   "source": [
    "function = Function(5)\n",
    "\n"
   ]
  },
  {
   "cell_type": "code",
   "execution_count": 99,
   "metadata": {},
   "outputs": [],
   "source": [
    "def permutation_invariant(lat_dim,learning_rate):\n",
    "    function.build(input_shape=(1,10))\n",
    "    function.summary()\n",
    "\n",
    "    function.compile(optimizer=tf.optimizers.SGD(learning_rate=learning_rate), loss='MSE')\n",
    "    history = function.fit(x_train, y_train, epochs=10, batch_size=128,validation_split=.1, verbose=2)\n",
    "    # MSE Test \n",
    "    print(\"Test\")\n",
    "    loss = function.evaluate(x_test, y_test,verbose=1)\n",
    "    print(f\"Mean Square Error Test Data: {loss}\")\n",
    "    return history, function"
   ]
  },
  {
   "cell_type": "markdown",
   "metadata": {},
   "source": [
    "### P1.2\n",
    "\n",
    "Train the neural network with `lat_dim = 5` for 10 epochs. Show the test and validation loss versus the number of epochs. Show also the test MSE value. Repeat this but by taking `lat_dim = 100`. Discuss the obtained results. "
   ]
  },
  {
   "cell_type": "code",
   "execution_count": 100,
   "metadata": {
    "scrolled": false
   },
   "outputs": [
    {
     "name": "stdout",
     "output_type": "stream",
     "text": [
      "Model: \"function_16\"\n",
      "_________________________________________________________________\n",
      " Layer (type)                Output Shape              Param #   \n",
      "=================================================================\n",
      " phi_22 (Phi)                multiple                  1605      \n",
      "                                                                 \n",
      " rho_12 (Rho)                multiple                  301       \n",
      "                                                                 \n",
      "=================================================================\n",
      "Total params: 1,906\n",
      "Trainable params: 1,906\n",
      "Non-trainable params: 0\n",
      "_________________________________________________________________\n",
      "Epoch 1/10\n",
      "704/704 - 1s - loss: 0.0125 - val_loss: 0.0125 - 794ms/epoch - 1ms/step\n",
      "Epoch 2/10\n",
      "704/704 - 0s - loss: 0.0125 - val_loss: 0.0124 - 430ms/epoch - 610us/step\n",
      "Epoch 3/10\n",
      "704/704 - 0s - loss: 0.0124 - val_loss: 0.0124 - 409ms/epoch - 581us/step\n",
      "Epoch 4/10\n",
      "704/704 - 0s - loss: 0.0123 - val_loss: 0.0123 - 409ms/epoch - 581us/step\n",
      "Epoch 5/10\n",
      "704/704 - 0s - loss: 0.0123 - val_loss: 0.0122 - 473ms/epoch - 672us/step\n",
      "Epoch 6/10\n",
      "704/704 - 0s - loss: 0.0122 - val_loss: 0.0122 - 473ms/epoch - 672us/step\n",
      "Epoch 7/10\n",
      "704/704 - 1s - loss: 0.0121 - val_loss: 0.0121 - 657ms/epoch - 934us/step\n",
      "Epoch 8/10\n",
      "704/704 - 0s - loss: 0.0121 - val_loss: 0.0120 - 418ms/epoch - 593us/step\n",
      "Epoch 9/10\n",
      "704/704 - 0s - loss: 0.0120 - val_loss: 0.0120 - 389ms/epoch - 552us/step\n",
      "Epoch 10/10\n",
      "704/704 - 0s - loss: 0.0119 - val_loss: 0.0119 - 399ms/epoch - 567us/step\n",
      "Test\n",
      "313/313 [==============================] - 0s 588us/step - loss: 0.0119\n",
      "Mean Square Error Test Data: 0.011864845640957355\n"
     ]
    }
   ],
   "source": [
    "h, function= permutation_invariant(5,1e-4)"
   ]
  },
  {
   "cell_type": "code",
   "execution_count": 101,
   "metadata": {
    "scrolled": false
   },
   "outputs": [
    {
     "name": "stdout",
     "output_type": "stream",
     "text": [
      "Model: \"function_16\"\n",
      "_________________________________________________________________\n",
      " Layer (type)                Output Shape              Param #   \n",
      "=================================================================\n",
      " phi_22 (Phi)                multiple                  1605      \n",
      "                                                                 \n",
      " rho_12 (Rho)                multiple                  301       \n",
      "                                                                 \n",
      "=================================================================\n",
      "Total params: 1,906\n",
      "Trainable params: 1,906\n",
      "Non-trainable params: 0\n",
      "_________________________________________________________________\n",
      "Epoch 1/10\n",
      "704/704 - 1s - loss: 0.0119 - val_loss: 0.0118 - 692ms/epoch - 983us/step\n",
      "Epoch 2/10\n",
      "704/704 - 0s - loss: 0.0118 - val_loss: 0.0118 - 394ms/epoch - 560us/step\n",
      "Epoch 3/10\n",
      "704/704 - 1s - loss: 0.0117 - val_loss: 0.0117 - 527ms/epoch - 748us/step\n",
      "Epoch 4/10\n",
      "704/704 - 0s - loss: 0.0117 - val_loss: 0.0116 - 438ms/epoch - 622us/step\n",
      "Epoch 5/10\n",
      "704/704 - 0s - loss: 0.0116 - val_loss: 0.0116 - 391ms/epoch - 556us/step\n",
      "Epoch 6/10\n",
      "704/704 - 0s - loss: 0.0115 - val_loss: 0.0115 - 444ms/epoch - 630us/step\n",
      "Epoch 7/10\n",
      "704/704 - 1s - loss: 0.0115 - val_loss: 0.0114 - 669ms/epoch - 950us/step\n",
      "Epoch 8/10\n",
      "704/704 - 0s - loss: 0.0114 - val_loss: 0.0114 - 427ms/epoch - 606us/step\n",
      "Epoch 9/10\n",
      "704/704 - 0s - loss: 0.0113 - val_loss: 0.0113 - 394ms/epoch - 560us/step\n",
      "Epoch 10/10\n",
      "704/704 - 0s - loss: 0.0113 - val_loss: 0.0112 - 402ms/epoch - 571us/step\n",
      "Test\n",
      "313/313 [==============================] - 0s 603us/step - loss: 0.0112\n",
      "Mean Square Error Test Data: 0.011212997138500214\n"
     ]
    }
   ],
   "source": [
    "\n",
    "h, function= permutation_invariant(100,1e-4)"
   ]
  },
  {
   "cell_type": "markdown",
   "metadata": {},
   "source": [
    "### Discussion\n",
    "\n",
    "In general the neural network with input(100, 1e-4) converges faster to a lower loss in test and validation data. This is consistent with the empirical claim seen in lectures that adding more neurons (or size in the neural network) will make a model perform better. \n",
    "\n",
    "The decisive superiority of the (100,1e-4) is seen in the  evaluation using the Test MSE. Which is approximatley 73% of the first model."
   ]
  },
  {
   "cell_type": "markdown",
   "metadata": {},
   "source": [
    "### P1.3\n",
    "\n",
    "Train the neural network with `lat_dim = 100` for 10 epochs, for different values of learning rates equal to 0.01, 0.1, and 0.5. Discuss the obtained results."
   ]
  },
  {
   "cell_type": "code",
   "execution_count": 781,
   "metadata": {
    "scrolled": false
   },
   "outputs": [
    {
     "name": "stdout",
     "output_type": "stream",
     "text": [
      "\n",
      " \n",
      "\n",
      "Results with Learning_rate:0.01 iteration \n",
      "\n",
      "Model: \"set-function\"\n",
      "_________________________________________________________________\n",
      " Layer (type)                Output Shape              Param #   \n",
      "=================================================================\n",
      " phi-hidden (Dense)          (None, 100)               1100      \n",
      "                                                                 \n",
      " phi-output (Dense)          (None, 100)               10100     \n",
      "                                                                 \n",
      " Z (Dense)                   (None, 1)                 101       \n",
      "                                                                 \n",
      " Rho-hidden-layer (Dense)    (None, 100)               200       \n",
      "                                                                 \n",
      " rho-output (Dense)          (None, 1)                 101       \n",
      "                                                                 \n",
      "=================================================================\n",
      "Total params: 11,602\n",
      "Trainable params: 11,602\n",
      "Non-trainable params: 0\n",
      "_________________________________________________________________\n",
      "Epoch 1/10\n",
      "704/704 - 1s - loss: 0.0078 - val_loss: 0.0046 - 674ms/epoch - 958us/step\n",
      "Epoch 2/10\n",
      "704/704 - 1s - loss: 0.0044 - val_loss: 0.0053 - 658ms/epoch - 934us/step\n",
      "Epoch 3/10\n",
      "704/704 - 1s - loss: 0.0041 - val_loss: 0.0050 - 543ms/epoch - 771us/step\n",
      "Epoch 4/10\n",
      "704/704 - 0s - loss: 0.0040 - val_loss: 0.0039 - 436ms/epoch - 619us/step\n",
      "Epoch 5/10\n",
      "704/704 - 0s - loss: 0.0039 - val_loss: 0.0039 - 441ms/epoch - 627us/step\n",
      "Epoch 6/10\n",
      "704/704 - 0s - loss: 0.0039 - val_loss: 0.0037 - 491ms/epoch - 697us/step\n",
      "Epoch 7/10\n",
      "704/704 - 1s - loss: 0.0038 - val_loss: 0.0037 - 685ms/epoch - 973us/step\n",
      "Epoch 8/10\n",
      "704/704 - 0s - loss: 0.0038 - val_loss: 0.0038 - 499ms/epoch - 709us/step\n",
      "Epoch 9/10\n",
      "704/704 - 0s - loss: 0.0038 - val_loss: 0.0042 - 430ms/epoch - 611us/step\n",
      "Epoch 10/10\n",
      "704/704 - 1s - loss: 0.0038 - val_loss: 0.0036 - 642ms/epoch - 912us/step\n",
      "Test\n",
      "313/313 [==============================] - 0s 834us/step - loss: 0.0038\n",
      "Mean Square Error Test Data: 0.003757734317332506\n",
      "\n",
      " \n",
      "\n",
      "Results with Learning_rate:0.1 iteration \n",
      "\n",
      "Model: \"set-function\"\n",
      "_________________________________________________________________\n",
      " Layer (type)                Output Shape              Param #   \n",
      "=================================================================\n",
      " phi-hidden (Dense)          (None, 100)               1100      \n",
      "                                                                 \n",
      " phi-output (Dense)          (None, 100)               10100     \n",
      "                                                                 \n",
      " Z (Dense)                   (None, 1)                 101       \n",
      "                                                                 \n",
      " Rho-hidden-layer (Dense)    (None, 100)               200       \n",
      "                                                                 \n",
      " rho-output (Dense)          (None, 1)                 101       \n",
      "                                                                 \n",
      "=================================================================\n",
      "Total params: 11,602\n",
      "Trainable params: 11,602\n",
      "Non-trainable params: 0\n",
      "_________________________________________________________________\n",
      "Epoch 1/10\n",
      "704/704 - 1s - loss: 1.4260 - val_loss: 0.0189 - 991ms/epoch - 1ms/step\n",
      "Epoch 2/10\n",
      "704/704 - 1s - loss: 0.0190 - val_loss: 0.0189 - 681ms/epoch - 967us/step\n",
      "Epoch 3/10\n",
      "704/704 - 1s - loss: 0.0190 - val_loss: 0.0189 - 654ms/epoch - 929us/step\n",
      "Epoch 4/10\n",
      "704/704 - 1s - loss: 0.0190 - val_loss: 0.0189 - 648ms/epoch - 921us/step\n",
      "Epoch 5/10\n",
      "704/704 - 1s - loss: 0.0190 - val_loss: 0.0189 - 549ms/epoch - 779us/step\n",
      "Epoch 6/10\n",
      "704/704 - 1s - loss: 0.0190 - val_loss: 0.0189 - 600ms/epoch - 852us/step\n",
      "Epoch 7/10\n",
      "704/704 - 0s - loss: 0.0190 - val_loss: 0.0189 - 449ms/epoch - 638us/step\n",
      "Epoch 8/10\n",
      "704/704 - 0s - loss: 0.0190 - val_loss: 0.0190 - 445ms/epoch - 631us/step\n",
      "Epoch 9/10\n",
      "704/704 - 0s - loss: 0.0190 - val_loss: 0.0189 - 442ms/epoch - 628us/step\n",
      "Epoch 10/10\n",
      "704/704 - 0s - loss: 0.0190 - val_loss: 0.0190 - 429ms/epoch - 609us/step\n",
      "Test\n",
      "313/313 [==============================] - 0s 637us/step - loss: 0.0192\n",
      "Mean Square Error Test Data: 0.01920926384627819\n",
      "\n",
      " \n",
      "\n",
      "Results with Learning_rate:0.5 iteration \n",
      "\n",
      "Model: \"set-function\"\n",
      "_________________________________________________________________\n",
      " Layer (type)                Output Shape              Param #   \n",
      "=================================================================\n",
      " phi-hidden (Dense)          (None, 100)               1100      \n",
      "                                                                 \n",
      " phi-output (Dense)          (None, 100)               10100     \n",
      "                                                                 \n",
      " Z (Dense)                   (None, 1)                 101       \n",
      "                                                                 \n",
      " Rho-hidden-layer (Dense)    (None, 100)               200       \n",
      "                                                                 \n",
      " rho-output (Dense)          (None, 1)                 101       \n",
      "                                                                 \n",
      "=================================================================\n",
      "Total params: 11,602\n",
      "Trainable params: 11,602\n",
      "Non-trainable params: 0\n",
      "_________________________________________________________________\n",
      "Epoch 1/10\n",
      "704/704 - 1s - loss: nan - val_loss: nan - 975ms/epoch - 1ms/step\n",
      "Epoch 2/10\n",
      "704/704 - 0s - loss: nan - val_loss: nan - 499ms/epoch - 709us/step\n",
      "Epoch 3/10\n",
      "704/704 - 0s - loss: nan - val_loss: nan - 432ms/epoch - 614us/step\n",
      "Epoch 4/10\n",
      "704/704 - 0s - loss: nan - val_loss: nan - 429ms/epoch - 610us/step\n",
      "Epoch 5/10\n",
      "704/704 - 0s - loss: nan - val_loss: nan - 438ms/epoch - 623us/step\n",
      "Epoch 6/10\n",
      "704/704 - 0s - loss: nan - val_loss: nan - 442ms/epoch - 628us/step\n",
      "Epoch 7/10\n",
      "704/704 - 0s - loss: nan - val_loss: nan - 449ms/epoch - 637us/step\n",
      "Epoch 8/10\n",
      "704/704 - 0s - loss: nan - val_loss: nan - 419ms/epoch - 595us/step\n",
      "Epoch 9/10\n",
      "704/704 - 0s - loss: nan - val_loss: nan - 420ms/epoch - 597us/step\n",
      "Epoch 10/10\n",
      "704/704 - 0s - loss: nan - val_loss: nan - 443ms/epoch - 629us/step\n",
      "Test\n",
      "313/313 [==============================] - 0s 555us/step - loss: nan\n",
      "Mean Square Error Test Data: nan\n"
     ]
    }
   ],
   "source": [
    "data_loss = dict()\n",
    "data_valid_loss = dict()\n",
    "for learning_rate in [.01,.1,.5]:\n",
    "    print(\"\\n \\n\")\n",
    "    print(f\"Results with Learning_rate:{learning_rate} iteration \\n\")\n",
    "    hist = set_f(100,learning_rate)\n",
    "    data_loss[learning_rate] = hist.history[\"loss\"] \n",
    "    data_valid_loss[learning_rate] = hist.history[\"val_loss\"] \n",
    "\n",
    "df_loss = pd.DataFrame(data_loss)\n",
    "df_valid_loss = pd.DataFrame(data_valid_loss)"
   ]
  },
  {
   "cell_type": "markdown",
   "metadata": {},
   "source": [
    "### Training Loss"
   ]
  },
  {
   "cell_type": "code",
   "execution_count": 782,
   "metadata": {
    "scrolled": true
   },
   "outputs": [
    {
     "data": {
      "text/plain": [
       "<AxesSubplot:>"
      ]
     },
     "execution_count": 782,
     "metadata": {},
     "output_type": "execute_result"
    },
    {
     "data": {
      "image/png": "[encoded data removed]",
      "text/plain": [
       "<Figure size 432x288 with 1 Axes>"
      ]
     },
     "metadata": {
      "needs_background": "light"
     },
     "output_type": "display_data"
    }
   ],
   "source": [
    "df_loss.plot()"
   ]
  },
  {
   "cell_type": "markdown",
   "metadata": {},
   "source": [
    "### Validation Loss"
   ]
  },
  {
   "cell_type": "code",
   "execution_count": 783,
   "metadata": {
    "scrolled": true
   },
   "outputs": [
    {
     "data": {
      "text/plain": [
       "<AxesSubplot:>"
      ]
     },
     "execution_count": 783,
     "metadata": {},
     "output_type": "execute_result"
    },
    {
     "data": {
      "image/png": "[encoded data removed]",
      "text/plain": [
       "<Figure size 432x288 with 1 Axes>"
      ]
     },
     "metadata": {
      "needs_background": "light"
     },
     "output_type": "display_data"
    }
   ],
   "source": [
    "df_valid_loss.plot()"
   ]
  },
  {
   "cell_type": "markdown",
   "metadata": {},
   "source": [
    "### Results\n",
    "\n",
    "An important result from this exercise is the nonconvergence when a rate of .5 is used. This result is consistent with the topic we saw in lectures that explain that a \"big\" step in the learning rate makes the model lose the minimum value.\n",
    "\n",
    "Another important and interesting result is the fact that a learning rate of .01 has better results in train, valid and test in terms of the loss function, despite the higher volatility in some epochs. An intuition on why this result happen is that the learning rate steps for .1 are so big that becomes diverge for the minimum value. "
   ]
  },
  {
   "cell_type": "markdown",
   "metadata": {},
   "source": [
    "\n",
    "\n",
    "### P1.4\n",
    "\n",
    "Train the neural network with `lat_dim = 100` for 50 epochs, with ReLU activation functions. Show the training and validation loss versus the number of epochs. Repeat this for the same setting but with ReLU activation functions replaced with sigmoid activation functions. Discuss the results."
   ]
  },
  {
   "cell_type": "code",
   "execution_count": 792,
   "metadata": {},
   "outputs": [],
   "source": [
    "from tensorflow import keras\n",
    "\n",
    "def set_fQ4(lat_dim,learning_rate, activation, epochs):\n",
    "    # Function that define sthe whole phi rho descomposition neural network.\n",
    "    # Parameters is the desired lat_dim and learning rate for stoachastic gradient descent.\n",
    "    \n",
    "    function = keras.Sequential(name='set-function')  \n",
    "    # First Hidden layer from Phi function. The activation is relu.\n",
    "    function.add(layers.Dense(100,activation=activation,name='phi-hidden',input_shape=(10,)))\n",
    "    function.add(layers.Dense(lat_dim,name='phi-output'))\n",
    "    function.add(layers.Dense(1,name='Z', kernel_initializer=tf.keras.initializers.Ones())) \n",
    "    # Rho function starts with the input of the phi function and enters the hidden layers\n",
    "    function.add(layers.Dense(100,activation=activation,name='Rho-hidden-layer'))\n",
    "    \n",
    "    ## The final output is of one dimension\n",
    "    function.add(layers.Dense(1,name='rho-output'))\n",
    "    \n",
    "    # Observe compile the model\n",
    "    function.summary()\n",
    "    function.weights\n",
    "    function.compile(optimizer=tf.optimizers.SGD(learning_rate=learning_rate), loss='MSE')\n",
    "    history = function.fit(x_train, y_train, epochs= epochs, batch_size=128,validation_split=.1, verbose=0)\n",
    "    \n",
    "    # MSE Test \n",
    "    print(\"Test\")\n",
    "    loss = function.evaluate(x_test, y_test,verbose=1)\n",
    "    print(f\"Mean Square Error Test Data: {loss}\")\n",
    "    return history"
   ]
  },
  {
   "cell_type": "code",
   "execution_count": 793,
   "metadata": {
    "scrolled": false
   },
   "outputs": [
    {
     "name": "stdout",
     "output_type": "stream",
     "text": [
      "\n",
      " \n",
      "\n",
      "Results with Activation:relu \n",
      "\n",
      "Model: \"set-function\"\n",
      "_________________________________________________________________\n",
      " Layer (type)                Output Shape              Param #   \n",
      "=================================================================\n",
      " phi-hidden (Dense)          (None, 100)               1100      \n",
      "                                                                 \n",
      " phi-output (Dense)          (None, 100)               10100     \n",
      "                                                                 \n",
      " Z (Dense)                   (None, 1)                 101       \n",
      "                                                                 \n",
      " Rho-hidden-layer (Dense)    (None, 100)               200       \n",
      "                                                                 \n",
      " rho-output (Dense)          (None, 1)                 101       \n",
      "                                                                 \n",
      "=================================================================\n",
      "Total params: 11,602\n",
      "Trainable params: 11,602\n",
      "Non-trainable params: 0\n",
      "_________________________________________________________________\n",
      "Test\n",
      "313/313 [==============================] - 0s 609us/step - loss: 0.0100\n",
      "Mean Square Error Test Data: 0.009978778660297394\n",
      "\n",
      " \n",
      "\n",
      "Results with Activation:sigmoid \n",
      "\n",
      "Model: \"set-function\"\n",
      "_________________________________________________________________\n",
      " Layer (type)                Output Shape              Param #   \n",
      "=================================================================\n",
      " phi-hidden (Dense)          (None, 100)               1100      \n",
      "                                                                 \n",
      " phi-output (Dense)          (None, 100)               10100     \n",
      "                                                                 \n",
      " Z (Dense)                   (None, 1)                 101       \n",
      "                                                                 \n",
      " Rho-hidden-layer (Dense)    (None, 100)               200       \n",
      "                                                                 \n",
      " rho-output (Dense)          (None, 1)                 101       \n",
      "                                                                 \n",
      "=================================================================\n",
      "Total params: 11,602\n",
      "Trainable params: 11,602\n",
      "Non-trainable params: 0\n",
      "_________________________________________________________________\n",
      "Test\n",
      "313/313 [==============================] - 0s 833us/step - loss: 0.0166\n",
      "Mean Square Error Test Data: 0.016628755256533623\n"
     ]
    }
   ],
   "source": [
    "data_loss = dict()\n",
    "data_valid_loss = dict()\n",
    "for activation in [\"relu\", \"sigmoid\"]:\n",
    "    print(\"\\n \\n\")\n",
    "    print(f\"Results with Activation:{activation} \\n\")\n",
    "    hist = set_fQ4(100,1e-4, activation, 50)\n",
    "    data_loss[activation] = hist.history[\"loss\"] \n",
    "    data_valid_loss[activation] = hist.history[\"val_loss\"] \n",
    "\n",
    "df_loss = pd.DataFrame(data_loss)\n",
    "df_valid_loss = pd.DataFrame(data_valid_loss)"
   ]
  },
  {
   "cell_type": "markdown",
   "metadata": {},
   "source": [
    "### Training Loss Plot"
   ]
  },
  {
   "cell_type": "code",
   "execution_count": 794,
   "metadata": {},
   "outputs": [
    {
     "data": {
      "text/plain": [
       "<AxesSubplot:>"
      ]
     },
     "execution_count": 794,
     "metadata": {},
     "output_type": "execute_result"
    },
    {
     "data": {
      "image/png": "[encoded data removed]",
      "text/plain": [
       "<Figure size 432x288 with 1 Axes>"
      ]
     },
     "metadata": {
      "needs_background": "light"
     },
     "output_type": "display_data"
    }
   ],
   "source": [
    "df_loss.plot()"
   ]
  },
  {
   "cell_type": "markdown",
   "metadata": {},
   "source": [
    "### Validation Loss Plot"
   ]
  },
  {
   "cell_type": "code",
   "execution_count": 795,
   "metadata": {
    "scrolled": true
   },
   "outputs": [
    {
     "data": {
      "text/plain": [
       "<AxesSubplot:>"
      ]
     },
     "execution_count": 795,
     "metadata": {},
     "output_type": "execute_result"
    },
    {
     "data": {
      "image/png": "[encoded data removed]",
      "text/plain": [
       "<Figure size 432x288 with 1 Axes>"
      ]
     },
     "metadata": {
      "needs_background": "light"
     },
     "output_type": "display_data"
    }
   ],
   "source": [
    "df_valid_loss.plot()"
   ]
  },
  {
   "cell_type": "markdown",
   "metadata": {},
   "source": [
    "### Results\n",
    "\n",
    "As claimed in the lecture, ReLu performs much better than the Sigmoid activation function for train, validation and test data. \n",
    "\n",
    "In this case, the reason might be that the ReLu Activation function it allows the output numbers to have bigger values than 1, and helps the model to accomplish the differentiation between different domains. "
   ]
  },
  {
   "cell_type": "markdown",
   "metadata": {},
   "source": [
    "### P1.5\n",
    "\n",
    "In this part you need to evaluate the neural network architecture defined above, for different values of `lat_dim` in [1, 2, ..., 10, 20, 30, ..., 100]. For each setting of `lat_dim`, run 5 independent training runs, each for 5 epochs. For each training run, select the best model found with respect to the MSE validation metric. Compute the test MSE value of the best model for each training run. For each `lat_dim`, compute the mean of the test MSE values of the best models identified in the corresponding training runs. Show the mean test MSE versus `lat_dim` in a plot. Comment the results. "
   ]
  },
  {
   "cell_type": "code",
   "execution_count": 796,
   "metadata": {},
   "outputs": [],
   "source": [
    "from tensorflow import keras\n",
    "\n",
    "def set_f5(lat_dim,learning_rate):\n",
    "    # Function that define sthe whole phi rho descomposition neural network.\n",
    "    # Parameters is the desired lat_dim and learning rate for stoachastic gradient descent.\n",
    "    \n",
    "    function = keras.Sequential(name='set-function')  \n",
    "    # First Hidden layer from Phi function. The activation is relu.\n",
    "    function.add(layers.Dense(100,activation='relu',name='phi-hidden',input_shape=(10,)))\n",
    "    function.add(layers.Dense(lat_dim,name='phi-output'))\n",
    "    function.add(layers.Dense(1,name='Z', kernel_initializer=tf.keras.initializers.Ones()))    \n",
    "    # Rho function starts with the input of the phi function and enters the hidden layers\n",
    "    function.add(layers.Dense(100,activation='relu',name='Rho-hidden-layer'))\n",
    "    \n",
    "    ## The final output is of one dimension\n",
    "    function.add(layers.Dense(1,name='rho-output'))\n",
    "    \n",
    "    # Observe compile the model\n",
    "\n",
    "    function.compile(optimizer=tf.optimizers.SGD(learning_rate=learning_rate), loss='MSE')\n",
    "    history = function.fit(x_train, y_train, epochs=5, batch_size=128,validation_split=.1, verbose=0)\n",
    "    \n",
    "    mse_valid = history.history[\"val_loss\"][4]\n",
    "    \n",
    "    return function, mse_valid"
   ]
  },
  {
   "cell_type": "code",
   "execution_count": 797,
   "metadata": {},
   "outputs": [],
   "source": [
    "data_MSE = dict()\n",
    "\n",
    "\n",
    "\n",
    "for lat_dim in [1,2,3,4,5,6,7,8,9,10,20,30,40,50,60,70,80,90,100]:\n",
    "    best = 100\n",
    "    for _ in range(1,6):\n",
    "\n",
    "\n",
    "        function, mse_valid = set_f5(lat_dim,1e-4)\n",
    "        \n",
    "        if mse_valid <=best:\n",
    "            best_function = function\n",
    "            best = mse_valid\n",
    "\n",
    "    data_MSE[lat_dim]= float(tf.math.reduce_mean( tf.metrics.mean_squared_error( y_test , best_function.predict(x_test) )))"
   ]
  },
  {
   "cell_type": "code",
   "execution_count": 798,
   "metadata": {},
   "outputs": [
    {
     "data": {
      "text/plain": [
       "<AxesSubplot:>"
      ]
     },
     "execution_count": 798,
     "metadata": {},
     "output_type": "execute_result"
    },
    {
     "data": {
      "image/png": "[encoded data removed]",
      "text/plain": [
       "<Figure size 432x288 with 1 Axes>"
      ]
     },
     "metadata": {
      "needs_background": "light"
     },
     "output_type": "display_data"
    }
   ],
   "source": [
    "pd.Series(data_MSE).plot(kind=\"bar\")"
   ]
  },
  {
   "cell_type": "markdown",
   "metadata": {},
   "source": [
    "The results show that the mean estimator of the parameter mean test MSE (which is non biased) is best in the model with lat_dim=3. So the parameter we chose is not the best for lat_dim=100 or 5."
   ]
  },
  {
   "cell_type": "markdown",
   "metadata": {},
   "source": [
    "# P2 - permutation-equivariant functions\n",
    "\n",
    "Consider the problem of learning a permutation-equivariant function <img src=\"https://render.githubusercontent.com/render/math?math=f:\\mathbb{R}^{m\\times{d}}\\rightarrow\\{0,1\\}^m\"> by using a feedforward neural network with equivariant layers - see lectures for definition. The function we are going to consider corresponds to a choice function that for each set of input items outputs the choice of one of these items (using one-hot encoding).\n",
    "\n",
    "We consider a feedforward neural network with `L` equivariant layers. Each of the first `L-1` layers consists of an equivariant affine transformation followed by ReLU activation units with output dimension <img src=\"https://render.githubusercontent.com/render/math?math=m\\times{w}\">. The output layer is an equivariant affine transformation with output dimension <img src=\"https://render.githubusercontent.com/render/math?math=m\">.   \n",
    "\n",
    "For training, use Adam optimizer with learning rate of value 1e-4 and epsilon set to value 1e-3. For the loss function, use MSE. Use validation split of value 0.1. Use batch size of value 300. Use the number of epochs of value 100.\n",
    "\n",
    "The training dataset is given in `xtrain-2.csv` and `ytrain-2.csv`. Each row of xtrain-2.csv contains values of a flatten <img src=\"https://render.githubusercontent.com/render/math?math=m\\times{d}\"> matrix (row concatenation). Each row of ytrain-2.csv contains elements of a <img src=\"https://render.githubusercontent.com/render/math?math=m\"> dimensional output vector. The test dataset is given in `xtest-2.csv` and `ytest-2.csv` and is of the same format. In these datasets, <img src=\"https://render.githubusercontent.com/render/math?math=m=5\"> and <img src=\"https://render.githubusercontent.com/render/math?math=d=3\">.\n",
    "\n",
    "You need to perform the following tasks:"
   ]
  },
  {
   "cell_type": "code",
   "execution_count": null,
   "metadata": {},
   "outputs": [],
   "source": []
  },
  {
   "cell_type": "code",
   "execution_count": 601,
   "metadata": {},
   "outputs": [],
   "source": [
    "x_train2 = pd.read_csv('ST456-data/xtrain-2.csv', index_col = \"Unnamed: 0\")\n",
    "y_train2 = pd.read_csv('ST456-data/ytrain-2.csv', index_col = \"Unnamed: 0\")\n",
    "y_test2 = pd.read_csv('ST456-data/ytest-2.csv', index_col = \"Unnamed: 0\")\n",
    "x_test2 = pd.read_csv('ST456-data/xtest-2.csv', index_col = \"Unnamed: 0\")"
   ]
  },
  {
   "cell_type": "markdown",
   "metadata": {},
   "source": [
    "### P2.1\n",
    "\n",
    "Implement the feedforward neural network defined above. Explain your implementation."
   ]
  },
  {
   "cell_type": "markdown",
   "metadata": {},
   "source": [
    "# Answer\n",
    "When I worked the equivariant affine transformation, I obtained that it helps preserve the same parameters per cell, changing only the variables. \n",
    "For example, if tensor is $(x_1,x_2)$ and we go from 2x1 to 2x1 (m,d)\n",
    "\n",
    "$y1 = ax_1+bx_2 +c\\\\$\n",
    "$y2 = bx_1+ax_2+c$\n",
    "To translate this to code, I generate a Convolutional1D Neural Network, where each cell uses all the variables of the tensor, but maintaining the same parameters.\n",
    "\n",
    "\n",
    "\n",
    "To achieve the latter, I allow the kernel to be 15x1, but the stride is 3 (w for the inner layers) and I do it 5 times. This generates the desired same parameters but with different variables as input. A problem that I have is that I need to Reflect the tensor with Padding to let it repeat variables, I wasn't able to do it but I found it is possible. \n"
   ]
  },
  {
   "cell_type": "code",
   "execution_count": 608,
   "metadata": {},
   "outputs": [],
   "source": [
    "from tensorflow.keras import Model\n",
    "\n",
    "def perm_equivariant(L, w):\n",
    "    \n",
    "    # First Layer. Because I want the function to be an equivariant transformation\n",
    "    # I define a Convolutional layer in 1D that has the same parameters in each equation that gives an element of the output.\n",
    "\n",
    "    model2 = tf.keras.Sequential()\n",
    "    \n",
    "    # The ideal padding is to reflect the data, but it wasn't possible with conv1D.\n",
    "    model2.add(tf.keras.layers.Conv1D(w, 15,strides=3,padding=\"same\", activation=\"relu\",input_shape = (15, 1)))\n",
    "    \n",
    "    #Create the next L-1 layers. respecting output mxd\n",
    "    for _ in range(0,L-2):\n",
    "        # Reshape to a vector again for quicker computation\n",
    "        model2.add(tf.keras.layers.Reshape((5*w,1)))\n",
    "        model2.add(tf.keras.layers.Conv1D(w, 5*w,strides=w,padding=\"same\", activation=\"relu\"))\n",
    "\n",
    "    #Final layer\n",
    "    model2.add(tf.keras.layers.Reshape((5*w,1)))\n",
    "    model2.add(tf.keras.layers.Conv1D(1, 5*w,strides=w,padding=\"same\",activation=\"relu\"))\n",
    "    \n",
    "    print(model2.summary())\n",
    "    \n",
    "    model2.compile(optimizer=tf.optimizers.Adam(learning_rate=1e-4, epsilon=1e-3), loss='MSE')\n",
    "    history = model2.fit(x_train2, y_train2, epochs=100, batch_size=300,validation_split=.1, verbose=0)\n",
    " \n",
    "    print(\"Test\")\n",
    "    loss = model2.evaluate(x_test2, y_test2,verbose=1)\n",
    "    print(f\"Mean Square Error Test Data: {loss}\")\n",
    "    \n",
    "    return history, model2"
   ]
  },
  {
   "cell_type": "markdown",
   "metadata": {},
   "source": [
    "### P2.2\n",
    "\n",
    "Train the neural network with <img src=\"https://render.githubusercontent.com/render/math?math=(L,w)=(2,5)\">. Show the training and validation loss versus the number of epochs. Compute the test MSE value. Repeat this for <img src=\"https://render.githubusercontent.com/render/math?math=(L,w)\"> set to (2,10), (2,100), (2,200), (3,5), (3,10), (3,100), and (3,200). Discuss the obtained results. "
   ]
  },
  {
   "cell_type": "markdown",
   "metadata": {},
   "source": [
    "### Test MSE Value per Input"
   ]
  },
  {
   "cell_type": "code",
   "execution_count": 609,
   "metadata": {
    "scrolled": true
   },
   "outputs": [
    {
     "name": "stdout",
     "output_type": "stream",
     "text": [
      "Model: \"sequential_209\"\n",
      "_________________________________________________________________\n",
      " Layer (type)                Output Shape              Param #   \n",
      "=================================================================\n",
      " conv1d_138 (Conv1D)         (None, 5, 5)              80        \n",
      "                                                                 \n",
      " reshape_91 (Reshape)        (None, 25, 1)             0         \n",
      "                                                                 \n",
      " conv1d_139 (Conv1D)         (None, 5, 1)              26        \n",
      "                                                                 \n",
      "=================================================================\n",
      "Total params: 106\n",
      "Trainable params: 106\n",
      "Non-trainable params: 0\n",
      "_________________________________________________________________\n",
      "None\n",
      "Test\n",
      "6250/6250 [==============================] - 4s 686us/step - loss: 0.1600\n",
      "Mean Square Error Test Data: 0.16001220047473907\n"
     ]
    }
   ],
   "source": [
    "hex1,mod1 = perm_equivariant(2, 5)"
   ]
  },
  {
   "cell_type": "code",
   "execution_count": 610,
   "metadata": {},
   "outputs": [
    {
     "name": "stdout",
     "output_type": "stream",
     "text": [
      "Model: \"sequential_210\"\n",
      "_________________________________________________________________\n",
      " Layer (type)                Output Shape              Param #   \n",
      "=================================================================\n",
      " conv1d_140 (Conv1D)         (None, 5, 100)            1600      \n",
      "                                                                 \n",
      " reshape_92 (Reshape)        (None, 500, 1)            0         \n",
      "                                                                 \n",
      " conv1d_141 (Conv1D)         (None, 5, 1)              501       \n",
      "                                                                 \n",
      "=================================================================\n",
      "Total params: 2,101\n",
      "Trainable params: 2,101\n",
      "Non-trainable params: 0\n",
      "_________________________________________________________________\n",
      "None\n",
      "Test\n",
      "6250/6250 [==============================] - 5s 757us/step - loss: 0.1512\n",
      "Mean Square Error Test Data: 0.15123909711837769\n"
     ]
    }
   ],
   "source": [
    "hex2,mod2 = perm_equivariant(2, 100)"
   ]
  },
  {
   "cell_type": "code",
   "execution_count": 611,
   "metadata": {},
   "outputs": [
    {
     "name": "stdout",
     "output_type": "stream",
     "text": [
      "Model: \"sequential_211\"\n",
      "_________________________________________________________________\n",
      " Layer (type)                Output Shape              Param #   \n",
      "=================================================================\n",
      " conv1d_142 (Conv1D)         (None, 5, 200)            3200      \n",
      "                                                                 \n",
      " reshape_93 (Reshape)        (None, 1000, 1)           0         \n",
      "                                                                 \n",
      " conv1d_143 (Conv1D)         (None, 5, 1)              1001      \n",
      "                                                                 \n",
      "=================================================================\n",
      "Total params: 4,201\n",
      "Trainable params: 4,201\n",
      "Non-trainable params: 0\n",
      "_________________________________________________________________\n",
      "None\n",
      "Test\n",
      "6250/6250 [==============================] - 5s 849us/step - loss: 0.1495\n",
      "Mean Square Error Test Data: 0.14950929582118988\n"
     ]
    }
   ],
   "source": [
    "hex3,mod3 = perm_equivariant(2, 200)"
   ]
  },
  {
   "cell_type": "code",
   "execution_count": 612,
   "metadata": {},
   "outputs": [
    {
     "name": "stdout",
     "output_type": "stream",
     "text": [
      "Model: \"sequential_212\"\n",
      "_________________________________________________________________\n",
      " Layer (type)                Output Shape              Param #   \n",
      "=================================================================\n",
      " conv1d_144 (Conv1D)         (None, 5, 5)              80        \n",
      "                                                                 \n",
      " reshape_94 (Reshape)        (None, 25, 1)             0         \n",
      "                                                                 \n",
      " conv1d_145 (Conv1D)         (None, 5, 5)              130       \n",
      "                                                                 \n",
      " reshape_95 (Reshape)        (None, 25, 1)             0         \n",
      "                                                                 \n",
      " conv1d_146 (Conv1D)         (None, 5, 1)              26        \n",
      "                                                                 \n",
      "=================================================================\n",
      "Total params: 236\n",
      "Trainable params: 236\n",
      "Non-trainable params: 0\n",
      "_________________________________________________________________\n",
      "None\n",
      "Test\n",
      "6250/6250 [==============================] - 5s 715us/step - loss: 0.1555\n",
      "Mean Square Error Test Data: 0.15548035502433777\n"
     ]
    }
   ],
   "source": [
    "hex4,mod4 = perm_equivariant(3, 5)"
   ]
  },
  {
   "cell_type": "code",
   "execution_count": 613,
   "metadata": {},
   "outputs": [
    {
     "name": "stdout",
     "output_type": "stream",
     "text": [
      "Model: \"sequential_213\"\n",
      "_________________________________________________________________\n",
      " Layer (type)                Output Shape              Param #   \n",
      "=================================================================\n",
      " conv1d_147 (Conv1D)         (None, 5, 10)             160       \n",
      "                                                                 \n",
      " reshape_96 (Reshape)        (None, 50, 1)             0         \n",
      "                                                                 \n",
      " conv1d_148 (Conv1D)         (None, 5, 10)             510       \n",
      "                                                                 \n",
      " reshape_97 (Reshape)        (None, 50, 1)             0         \n",
      "                                                                 \n",
      " conv1d_149 (Conv1D)         (None, 5, 1)              51        \n",
      "                                                                 \n",
      "=================================================================\n",
      "Total params: 721\n",
      "Trainable params: 721\n",
      "Non-trainable params: 0\n",
      "_________________________________________________________________\n",
      "None\n",
      "Test\n",
      "6250/6250 [==============================] - 5s 795us/step - loss: 0.1601\n",
      "Mean Square Error Test Data: 0.16005221009254456\n"
     ]
    }
   ],
   "source": [
    "hex5,mod5 = perm_equivariant(3, 10)"
   ]
  },
  {
   "cell_type": "code",
   "execution_count": 614,
   "metadata": {},
   "outputs": [
    {
     "name": "stdout",
     "output_type": "stream",
     "text": [
      "Model: \"sequential_214\"\n",
      "_________________________________________________________________\n",
      " Layer (type)                Output Shape              Param #   \n",
      "=================================================================\n",
      " conv1d_150 (Conv1D)         (None, 5, 100)            1600      \n",
      "                                                                 \n",
      " reshape_98 (Reshape)        (None, 500, 1)            0         \n",
      "                                                                 \n",
      " conv1d_151 (Conv1D)         (None, 5, 100)            50100     \n",
      "                                                                 \n",
      " reshape_99 (Reshape)        (None, 500, 1)            0         \n",
      "                                                                 \n",
      " conv1d_152 (Conv1D)         (None, 5, 1)              501       \n",
      "                                                                 \n",
      "=================================================================\n",
      "Total params: 52,201\n",
      "Trainable params: 52,201\n",
      "Non-trainable params: 0\n",
      "_________________________________________________________________\n",
      "None\n",
      "Test\n",
      "6250/6250 [==============================] - 7s 1ms/step - loss: 0.1472\n",
      "Mean Square Error Test Data: 0.14718389511108398\n"
     ]
    }
   ],
   "source": [
    "hex6.mod6 = perm_equivariant(3, 100)"
   ]
  },
  {
   "cell_type": "code",
   "execution_count": 615,
   "metadata": {},
   "outputs": [
    {
     "name": "stdout",
     "output_type": "stream",
     "text": [
      "Model: \"sequential_215\"\n",
      "_________________________________________________________________\n",
      " Layer (type)                Output Shape              Param #   \n",
      "=================================================================\n",
      " conv1d_153 (Conv1D)         (None, 5, 200)            3200      \n",
      "                                                                 \n",
      " reshape_100 (Reshape)       (None, 1000, 1)           0         \n",
      "                                                                 \n",
      " conv1d_154 (Conv1D)         (None, 5, 200)            200200    \n",
      "                                                                 \n",
      " reshape_101 (Reshape)       (None, 1000, 1)           0         \n",
      "                                                                 \n",
      " conv1d_155 (Conv1D)         (None, 5, 1)              1001      \n",
      "                                                                 \n",
      "=================================================================\n",
      "Total params: 204,401\n",
      "Trainable params: 204,401\n",
      "Non-trainable params: 0\n",
      "_________________________________________________________________\n",
      "None\n",
      "Test\n",
      "6250/6250 [==============================] - 7s 1ms/step - loss: 0.1471\n",
      "Mean Square Error Test Data: 0.14713650941848755\n"
     ]
    }
   ],
   "source": [
    "hex7, mod7 = perm_equivariant(3, 200)"
   ]
  },
  {
   "cell_type": "code",
   "execution_count": 616,
   "metadata": {},
   "outputs": [
    {
     "name": "stdout",
     "output_type": "stream",
     "text": [
      "Model: \"sequential_216\"\n",
      "_________________________________________________________________\n",
      " Layer (type)                Output Shape              Param #   \n",
      "=================================================================\n",
      " conv1d_156 (Conv1D)         (None, 5, 10)             160       \n",
      "                                                                 \n",
      " reshape_102 (Reshape)       (None, 50, 1)             0         \n",
      "                                                                 \n",
      " conv1d_157 (Conv1D)         (None, 5, 1)              51        \n",
      "                                                                 \n",
      "=================================================================\n",
      "Total params: 211\n",
      "Trainable params: 211\n",
      "Non-trainable params: 0\n",
      "_________________________________________________________________\n",
      "None\n",
      "Test\n",
      "6250/6250 [==============================] - 5s 759us/step - loss: 0.1556\n",
      "Mean Square Error Test Data: 0.1555977314710617\n"
     ]
    }
   ],
   "source": [
    "hex8,mod8 = perm_equivariant(2, 10)"
   ]
  },
  {
   "cell_type": "code",
   "execution_count": 575,
   "metadata": {},
   "outputs": [],
   "source": [
    "lista,mod9 = list()"
   ]
  },
  {
   "cell_type": "markdown",
   "metadata": {},
   "source": [
    "### Loss Vs Epochs graphs"
   ]
  },
  {
   "cell_type": "code",
   "execution_count": 582,
   "metadata": {},
   "outputs": [],
   "source": [
    "for hist in [hex1,hex2,hex3,hex4,hex5,hex6,hex7,hex8]:\n",
    "    lista.append(hist.history['loss'])\n"
   ]
  },
  {
   "cell_type": "code",
   "execution_count": 589,
   "metadata": {},
   "outputs": [],
   "source": [
    "pd.DataFrame(lista).T.to_csv(\"results.csv\")"
   ]
  },
  {
   "cell_type": "code",
   "execution_count": 592,
   "metadata": {},
   "outputs": [],
   "source": [
    "df = pd.DataFrame(lista).T"
   ]
  },
  {
   "cell_type": "code",
   "execution_count": 594,
   "metadata": {},
   "outputs": [],
   "source": [
    "df.columns = [\"loss (2, 5)\", \"loss (2, 100)\",\n",
    "             \"loss (2, 200)\", \"loss (3, 5)\",\n",
    "            \"loss (3, 10)\", \"loss (3, 100)\",\n",
    "            \"loss (3, 200)\", \"loss (2, 10)\"]"
   ]
  },
  {
   "cell_type": "code",
   "execution_count": 595,
   "metadata": {
    "scrolled": true
   },
   "outputs": [
    {
     "data": {
      "text/plain": [
       "<AxesSubplot:>"
      ]
     },
     "execution_count": 595,
     "metadata": {},
     "output_type": "execute_result"
    },
    {
     "data": {
      "image/png": "[encoded data removed]",
      "text/plain": [
       "<Figure size 432x288 with 1 Axes>"
      ]
     },
     "metadata": {
      "needs_background": "light"
     },
     "output_type": "display_data"
    }
   ],
   "source": [
    "df.plot()"
   ]
  },
  {
   "cell_type": "code",
   "execution_count": 596,
   "metadata": {},
   "outputs": [],
   "source": [
    "lista = list()\n",
    "for hist in [hex1,hex2,hex3,hex4,hex5,hex6,hex7,hex8]:\n",
    "    lista.append(hist.history['val_loss'])\n",
    "\n"
   ]
  },
  {
   "cell_type": "code",
   "execution_count": 597,
   "metadata": {},
   "outputs": [],
   "source": [
    "pd.DataFrame(lista).T.to_csv(\"results_val_loss.csv\")"
   ]
  },
  {
   "cell_type": "code",
   "execution_count": 599,
   "metadata": {},
   "outputs": [],
   "source": [
    "df = pd.DataFrame(lista).T\n",
    "df.columns = [\"val_loss (2, 5)\", \"val_loss (2, 100)\",\n",
    "             \"val_loss (2, 200)\", \"val_loss (3, 5)\",\n",
    "            \"val_loss (3, 10)\", \"val_loss (3, 100)\",\n",
    "            \"val_loss (3, 200)\", \"val_loss (2, 10)\"]"
   ]
  },
  {
   "cell_type": "code",
   "execution_count": 600,
   "metadata": {},
   "outputs": [
    {
     "data": {
      "text/plain": [
       "<AxesSubplot:>"
      ]
     },
     "execution_count": 600,
     "metadata": {},
     "output_type": "execute_result"
    },
    {
     "data": {
      "image/png": "[encoded data removed]",
      "text/plain": [
       "<Figure size 432x288 with 1 Axes>"
      ]
     },
     "metadata": {
      "needs_background": "light"
     },
     "output_type": "display_data"
    }
   ],
   "source": [
    "df.plot()"
   ]
  },
  {
   "cell_type": "markdown",
   "metadata": {},
   "source": [
    "It turns out the models become better as the Size of the layer increases. Nevertheless, it looks like after size 100 depth of the layer makes the model perform better than adding more size."
   ]
  }
 ],
 "metadata": {
  "kernelspec": {
   "display_name": "Python 3",
   "language": "python",
   "name": "python3"
  },
  "language_info": {
   "codemirror_mode": {
    "name": "ipython",
    "version": 3
   },
   "file_extension": ".py",
   "mimetype": "text/x-python",
   "name": "python",
   "nbconvert_exporter": "python",
   "pygments_lexer": "ipython3",
   "version": "3.9.13"
  }
 },
 "nbformat": 4,
 "nbformat_minor": 4
}
